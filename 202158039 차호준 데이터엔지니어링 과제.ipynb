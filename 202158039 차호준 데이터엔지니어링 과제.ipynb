{
 "cells": [
  {
   "cell_type": "code",
   "execution_count": 8,
   "id": "b09ea7cd",
   "metadata": {},
   "outputs": [],
   "source": [
    "import pandas as pd\n",
    "import numpy as np"
   ]
  },
  {
   "cell_type": "code",
   "execution_count": 4,
   "id": "909b5a0d",
   "metadata": {},
   "outputs": [
    {
     "name": "stdout",
     "output_type": "stream",
     "text": [
      "Customer One Items:\n",
      "['Lovely Loveseat. Tufted polyester blend on wood. 32 inches high x 40 inches wide x 30 inches deep. Red or white.', 'Luxurious Lamp. Glass and iron. 36 inches tall. Brown with cream shade.']\n",
      "Customer One Total:\n",
      "333.09119999999996\n"
     ]
    }
   ],
   "source": [
    "#Question 1 \n",
    "item_price  = [254.00, 180.50,  52.15]\n",
    "item_description =[\"Lovely Loveseat. Tufted polyester blend on wood. 32 inches high x 40 inches wide x 30 inches deep. Red or white.\",\"Stylish Settee. Faux leather on birch. 29.50 inches high x 54.75 inches wide x 28 inches deep. Black.\",\"Luxurious Lamp. Glass and iron. 36 inches tall. Brown with cream shade.\"] \n",
    "\n",
    "sales_tax = 0.088\n",
    "customer_one_total = 0 \n",
    "customer_one_itemization = []\n",
    "\n",
    "customer_one_total += item_price[0]\n",
    "customer_one_itemization += [item_description[0]]\n",
    "\n",
    "customer_one_total += item_price[2]\n",
    "customer_one_itemization += [item_description[2]]\n",
    "\n",
    "customer_one_tax = customer_one_total * sales_tax\n",
    "customer_one_total += customer_one_tax\n",
    "\n",
    "print(\"Customer One Items:\")\n",
    "print(customer_one_itemization)\n",
    "\n",
    "print(\"Customer One Total:\")\n",
    "print(customer_one_total)\n",
    "\n"
   ]
  },
  {
   "cell_type": "code",
   "execution_count": null,
   "id": "7b525aa7",
   "metadata": {},
   "outputs": [
    {
     "data": {
      "text/plain": [
       "[['physics', 98],\n",
       " ['calculus', 97],\n",
       " ['history', 88],\n",
       " ['computer science', 100],\n",
       " ['visual arts', 98],\n",
       " ['poetry', 'pass']]"
      ]
     },
     "execution_count": 22,
     "metadata": {},
     "output_type": "execute_result"
    }
   ],
   "source": [
    "#Qusetion2\n",
    "subjects = [\"physics\",\"calculus\",\"poetry\",\"history\"]\n",
    "grades = [98,97,85,88]\n",
    "\n",
    "gradebook = [[subject, grade] for subject, grade in zip(subjects, grades)]\n",
    "gradebook.append([\"computer science\",100])\n",
    "gradebook.append([\"visual arts\",93])\n",
    "\n",
    "for item in gradebook:\n",
    "    if item[0] == \"visual arts\":\n",
    "        item[1] += 5\n",
    "\n",
    "gradebook.remove([\"poetry\",85])\n",
    "gradebook.append([\"poetry\",\"pass\"])\n",
    "gradebook"
   ]
  },
  {
   "cell_type": "code",
   "execution_count": null,
   "id": "de9fe272",
   "metadata": {},
   "outputs": [
    {
     "data": {
      "text/plain": [
       "[25, 20, 35, 15, 15, 30, 45, 30]"
      ]
     },
     "execution_count": 35,
     "metadata": {},
     "output_type": "execute_result"
    }
   ],
   "source": [
    "#Qusetion3\n",
    "hairstyles = [\"bouffant\", \"pixie\", \"dreadlocks\", \"crew\", \"bowl\", \"bob\", \"mohawk\", \"flattop\"]\n",
    "prices = [30, 25, 40, 20, 20, 35, 50, 35]\n",
    "last_week = [2, 3, 5, 8, 4, 4, 6, 2]\n",
    "total_price = 0 \n",
    "total_revenue = 0\n",
    "\n",
    "\n",
    "for i in range(len(hairstyles)):\n",
    "  total_revenue = prices[i]*last_week[i]"
   ]
  },
  {
   "cell_type": "code",
   "execution_count": null,
   "id": "62cfaf2a",
   "metadata": {},
   "outputs": [
    {
     "data": {
      "text/plain": [
       "63.75"
      ]
     },
     "execution_count": 36,
     "metadata": {},
     "output_type": "execute_result"
    }
   ],
   "source": [
    "#Question3\n",
    "for i in range(len(prices)):\n",
    "  total_price += prices[i] \n",
    "\n",
    "avr_price = total_price/len(prices)\n",
    "avr_price"
   ]
  },
  {
   "cell_type": "code",
   "execution_count": 37,
   "id": "bd252a74",
   "metadata": {},
   "outputs": [
    {
     "data": {
      "text/plain": [
       "[25, 20, 35, 15, 15, 30, 45, 30]"
      ]
     },
     "execution_count": 37,
     "metadata": {},
     "output_type": "execute_result"
    }
   ],
   "source": [
    "#Question3\n",
    "new_prices = [i - 5 for i in prices] \n",
    "new_prices\n"
   ]
  },
  {
   "cell_type": "code",
   "execution_count": 41,
   "id": "c6bbbcca",
   "metadata": {},
   "outputs": [
    {
     "data": {
      "text/plain": [
       "1155"
      ]
     },
     "execution_count": 41,
     "metadata": {},
     "output_type": "execute_result"
    }
   ],
   "source": [
    "#Question3\n",
    "for i in range(len(hairstyles)):\n",
    "  total_revenue += prices[i]*last_week[i]\n",
    "\n",
    "total_revenue"
   ]
  },
  {
   "cell_type": "code",
   "execution_count": 43,
   "id": "4a0341a1",
   "metadata": {},
   "outputs": [
    {
     "data": {
      "text/plain": [
       "165.0"
      ]
     },
     "execution_count": 43,
     "metadata": {},
     "output_type": "execute_result"
    }
   ],
   "source": [
    "#Question3\n",
    "average_daily_revenue = total_revenue / 7\n",
    "average_daily_revenue"
   ]
  },
  {
   "cell_type": "code",
   "execution_count": 46,
   "id": "51f4166d",
   "metadata": {},
   "outputs": [
    {
     "data": {
      "text/plain": [
       "['bouffant', 'pixie', 'crew', 'bowl']"
      ]
     },
     "execution_count": 46,
     "metadata": {},
     "output_type": "execute_result"
    }
   ],
   "source": [
    "#Question3\n",
    "cut_under_30 = [hairstyles[i] for i in range(len(new_prices)) if new_prices[i] < 30]\n",
    "cut_under_30"
   ]
  },
  {
   "cell_type": "code",
   "execution_count": 31,
   "id": "931c83fb",
   "metadata": {},
   "outputs": [
    {
     "name": "stdout",
     "output_type": "stream",
     "text": [
      "당신의 조선시대 이름은 차방똥 입니다.\n"
     ]
    }
   ],
   "source": [
    "#Question 4\n",
    "\n",
    "month = ['쌍','쇠','복','돌','팽','육','쌍','개','칠','갑','상','방']\n",
    "day = ['봉', '구', '욕', '포', '똥', '삼', '식', '석', '놈', '님', '년', '돌', '단', '득', '방', '질', '장', '걸', '래', '룡', '동', '순', '자', '박', '창', '언', '것', '포', '만', '단', '국']\n",
    "\n",
    "\n",
    "def get_my_chosun_name(family_name, month_name, day_name):\n",
    "  month_name = month[month_name-1]\n",
    "  day_name = day[day_name-1]\n",
    "\n",
    "  print(\"당신의 조선시대 이름은 \"+family_name+month_name+day_name+\" 입니다.\")\n",
    "\n",
    "\n",
    "get_my_chosun_name('차',12,5)    "
   ]
  },
  {
   "cell_type": "code",
   "execution_count": null,
   "id": "0b40422f",
   "metadata": {},
   "outputs": [],
   "source": []
  }
 ],
 "metadata": {
  "kernelspec": {
   "display_name": "base",
   "language": "python",
   "name": "python3"
  },
  "language_info": {
   "codemirror_mode": {
    "name": "ipython",
    "version": 3
   },
   "file_extension": ".py",
   "mimetype": "text/x-python",
   "name": "python",
   "nbconvert_exporter": "python",
   "pygments_lexer": "ipython3",
   "version": "3.12.4"
  }
 },
 "nbformat": 4,
 "nbformat_minor": 5
}
